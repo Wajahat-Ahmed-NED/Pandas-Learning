{
 "cells": [
  {
   "cell_type": "code",
   "execution_count": 1,
   "id": "e4188588",
   "metadata": {},
   "outputs": [],
   "source": [
    "import numpy as np\n",
    "import pandas as pd\n"
   ]
  },
  {
   "cell_type": "code",
   "execution_count": 5,
   "id": "b3fd6e4f",
   "metadata": {},
   "outputs": [],
   "source": [
    "dict1={\n",
    "    \"name\":['Wajahat','Saad','Mubashir'],\n",
    "    \"age\":[12,43,31],\n",
    "    \"city\":['Karachi','Lahore','Islamabad']\n",
    "}"
   ]
  },
  {
   "cell_type": "code",
   "execution_count": 6,
   "id": "7daa73f5",
   "metadata": {},
   "outputs": [],
   "source": [
    "df=pd.DataFrame(dict1) # will convert dictionary to excel table form // 1 excel sheet ha jis ko python ma use krskty ha \n",
    "#(DATA Frame)"
   ]
  },
  {
   "cell_type": "code",
   "execution_count": 7,
   "id": "567fbb8a",
   "metadata": {},
   "outputs": [
    {
     "data": {
      "text/html": [
       "<div>\n",
       "<style scoped>\n",
       "    .dataframe tbody tr th:only-of-type {\n",
       "        vertical-align: middle;\n",
       "    }\n",
       "\n",
       "    .dataframe tbody tr th {\n",
       "        vertical-align: top;\n",
       "    }\n",
       "\n",
       "    .dataframe thead th {\n",
       "        text-align: right;\n",
       "    }\n",
       "</style>\n",
       "<table border=\"1\" class=\"dataframe\">\n",
       "  <thead>\n",
       "    <tr style=\"text-align: right;\">\n",
       "      <th></th>\n",
       "      <th>name</th>\n",
       "      <th>age</th>\n",
       "      <th>city</th>\n",
       "    </tr>\n",
       "  </thead>\n",
       "  <tbody>\n",
       "    <tr>\n",
       "      <th>0</th>\n",
       "      <td>Wajahat</td>\n",
       "      <td>12</td>\n",
       "      <td>Karachi</td>\n",
       "    </tr>\n",
       "    <tr>\n",
       "      <th>1</th>\n",
       "      <td>Saad</td>\n",
       "      <td>43</td>\n",
       "      <td>Lahore</td>\n",
       "    </tr>\n",
       "    <tr>\n",
       "      <th>2</th>\n",
       "      <td>Mubashir</td>\n",
       "      <td>31</td>\n",
       "      <td>Islamabad</td>\n",
       "    </tr>\n",
       "  </tbody>\n",
       "</table>\n",
       "</div>"
      ],
      "text/plain": [
       "       name  age       city\n",
       "0   Wajahat   12    Karachi\n",
       "1      Saad   43     Lahore\n",
       "2  Mubashir   31  Islamabad"
      ]
     },
     "execution_count": 7,
     "metadata": {},
     "output_type": "execute_result"
    }
   ],
   "source": [
    "df"
   ]
  },
  {
   "cell_type": "code",
   "execution_count": 8,
   "id": "a2fff354",
   "metadata": {},
   "outputs": [],
   "source": [
    "df.to_csv('friends.csv') # covert data to excel sheet"
   ]
  },
  {
   "cell_type": "code",
   "execution_count": 11,
   "id": "00703eb1",
   "metadata": {},
   "outputs": [],
   "source": [
    "df.to_csv('friends_if.csv',index=False) # will give no index in excel file"
   ]
  },
  {
   "cell_type": "code",
   "execution_count": 12,
   "id": "c0ef08d9",
   "metadata": {},
   "outputs": [
    {
     "data": {
      "text/html": [
       "<div>\n",
       "<style scoped>\n",
       "    .dataframe tbody tr th:only-of-type {\n",
       "        vertical-align: middle;\n",
       "    }\n",
       "\n",
       "    .dataframe tbody tr th {\n",
       "        vertical-align: top;\n",
       "    }\n",
       "\n",
       "    .dataframe thead th {\n",
       "        text-align: right;\n",
       "    }\n",
       "</style>\n",
       "<table border=\"1\" class=\"dataframe\">\n",
       "  <thead>\n",
       "    <tr style=\"text-align: right;\">\n",
       "      <th></th>\n",
       "      <th>name</th>\n",
       "      <th>age</th>\n",
       "      <th>city</th>\n",
       "    </tr>\n",
       "  </thead>\n",
       "  <tbody>\n",
       "    <tr>\n",
       "      <th>0</th>\n",
       "      <td>Wajahat</td>\n",
       "      <td>12</td>\n",
       "      <td>Karachi</td>\n",
       "    </tr>\n",
       "    <tr>\n",
       "      <th>1</th>\n",
       "      <td>Saad</td>\n",
       "      <td>43</td>\n",
       "      <td>Lahore</td>\n",
       "    </tr>\n",
       "  </tbody>\n",
       "</table>\n",
       "</div>"
      ],
      "text/plain": [
       "      name  age     city\n",
       "0  Wajahat   12  Karachi\n",
       "1     Saad   43   Lahore"
      ]
     },
     "execution_count": 12,
     "metadata": {},
     "output_type": "execute_result"
    }
   ],
   "source": [
    "df.head(2) # if data is very large in million/ billion records then head will give first 2 rows"
   ]
  },
  {
   "cell_type": "code",
   "execution_count": 14,
   "id": "66968e2a",
   "metadata": {},
   "outputs": [
    {
     "data": {
      "text/html": [
       "<div>\n",
       "<style scoped>\n",
       "    .dataframe tbody tr th:only-of-type {\n",
       "        vertical-align: middle;\n",
       "    }\n",
       "\n",
       "    .dataframe tbody tr th {\n",
       "        vertical-align: top;\n",
       "    }\n",
       "\n",
       "    .dataframe thead th {\n",
       "        text-align: right;\n",
       "    }\n",
       "</style>\n",
       "<table border=\"1\" class=\"dataframe\">\n",
       "  <thead>\n",
       "    <tr style=\"text-align: right;\">\n",
       "      <th></th>\n",
       "      <th>name</th>\n",
       "      <th>age</th>\n",
       "      <th>city</th>\n",
       "    </tr>\n",
       "  </thead>\n",
       "  <tbody>\n",
       "    <tr>\n",
       "      <th>2</th>\n",
       "      <td>Mubashir</td>\n",
       "      <td>31</td>\n",
       "      <td>Islamabad</td>\n",
       "    </tr>\n",
       "  </tbody>\n",
       "</table>\n",
       "</div>"
      ],
      "text/plain": [
       "       name  age       city\n",
       "2  Mubashir   31  Islamabad"
      ]
     },
     "execution_count": 14,
     "metadata": {},
     "output_type": "execute_result"
    }
   ],
   "source": [
    "df.tail(1) # if data is very large in million/ billion records then head will give last 2 rows"
   ]
  },
  {
   "cell_type": "code",
   "execution_count": 15,
   "id": "a86a94d0",
   "metadata": {},
   "outputs": [
    {
     "data": {
      "text/html": [
       "<div>\n",
       "<style scoped>\n",
       "    .dataframe tbody tr th:only-of-type {\n",
       "        vertical-align: middle;\n",
       "    }\n",
       "\n",
       "    .dataframe tbody tr th {\n",
       "        vertical-align: top;\n",
       "    }\n",
       "\n",
       "    .dataframe thead th {\n",
       "        text-align: right;\n",
       "    }\n",
       "</style>\n",
       "<table border=\"1\" class=\"dataframe\">\n",
       "  <thead>\n",
       "    <tr style=\"text-align: right;\">\n",
       "      <th></th>\n",
       "      <th>age</th>\n",
       "    </tr>\n",
       "  </thead>\n",
       "  <tbody>\n",
       "    <tr>\n",
       "      <th>count</th>\n",
       "      <td>3.000000</td>\n",
       "    </tr>\n",
       "    <tr>\n",
       "      <th>mean</th>\n",
       "      <td>28.666667</td>\n",
       "    </tr>\n",
       "    <tr>\n",
       "      <th>std</th>\n",
       "      <td>15.631165</td>\n",
       "    </tr>\n",
       "    <tr>\n",
       "      <th>min</th>\n",
       "      <td>12.000000</td>\n",
       "    </tr>\n",
       "    <tr>\n",
       "      <th>25%</th>\n",
       "      <td>21.500000</td>\n",
       "    </tr>\n",
       "    <tr>\n",
       "      <th>50%</th>\n",
       "      <td>31.000000</td>\n",
       "    </tr>\n",
       "    <tr>\n",
       "      <th>75%</th>\n",
       "      <td>37.000000</td>\n",
       "    </tr>\n",
       "    <tr>\n",
       "      <th>max</th>\n",
       "      <td>43.000000</td>\n",
       "    </tr>\n",
       "  </tbody>\n",
       "</table>\n",
       "</div>"
      ],
      "text/plain": [
       "             age\n",
       "count   3.000000\n",
       "mean   28.666667\n",
       "std    15.631165\n",
       "min    12.000000\n",
       "25%    21.500000\n",
       "50%    31.000000\n",
       "75%    37.000000\n",
       "max    43.000000"
      ]
     },
     "execution_count": 15,
     "metadata": {},
     "output_type": "execute_result"
    }
   ],
   "source": [
    "df.describe() # will give statistical value of numeric values in data"
   ]
  },
  {
   "cell_type": "code",
   "execution_count": 17,
   "id": "aacf7081",
   "metadata": {},
   "outputs": [],
   "source": [
    "waji=pd.read_csv('waji.csv')"
   ]
  },
  {
   "cell_type": "code",
   "execution_count": 18,
   "id": "adbf8a1c",
   "metadata": {},
   "outputs": [
    {
     "data": {
      "text/html": [
       "<div>\n",
       "<style scoped>\n",
       "    .dataframe tbody tr th:only-of-type {\n",
       "        vertical-align: middle;\n",
       "    }\n",
       "\n",
       "    .dataframe tbody tr th {\n",
       "        vertical-align: top;\n",
       "    }\n",
       "\n",
       "    .dataframe thead th {\n",
       "        text-align: right;\n",
       "    }\n",
       "</style>\n",
       "<table border=\"1\" class=\"dataframe\">\n",
       "  <thead>\n",
       "    <tr style=\"text-align: right;\">\n",
       "      <th></th>\n",
       "      <th>Train No</th>\n",
       "      <th>Speed</th>\n",
       "      <th>City</th>\n",
       "    </tr>\n",
       "  </thead>\n",
       "  <tbody>\n",
       "    <tr>\n",
       "      <th>0</th>\n",
       "      <td>20202</td>\n",
       "      <td>1200</td>\n",
       "      <td>Karachi</td>\n",
       "    </tr>\n",
       "    <tr>\n",
       "      <th>1</th>\n",
       "      <td>23212</td>\n",
       "      <td>3400</td>\n",
       "      <td>Lahore</td>\n",
       "    </tr>\n",
       "    <tr>\n",
       "      <th>2</th>\n",
       "      <td>34342</td>\n",
       "      <td>2300</td>\n",
       "      <td>Islamabad</td>\n",
       "    </tr>\n",
       "  </tbody>\n",
       "</table>\n",
       "</div>"
      ],
      "text/plain": [
       "   Train No  Speed       City\n",
       "0     20202   1200    Karachi\n",
       "1     23212   3400     Lahore\n",
       "2     34342   2300  Islamabad"
      ]
     },
     "execution_count": 18,
     "metadata": {},
     "output_type": "execute_result"
    }
   ],
   "source": [
    "waji"
   ]
  },
  {
   "cell_type": "code",
   "execution_count": 19,
   "id": "5e9ac4ea",
   "metadata": {},
   "outputs": [
    {
     "name": "stderr",
     "output_type": "stream",
     "text": [
      "<ipython-input-19-f2de86435f5c>:1: SettingWithCopyWarning: \n",
      "A value is trying to be set on a copy of a slice from a DataFrame\n",
      "\n",
      "See the caveats in the documentation: https://pandas.pydata.org/pandas-docs/stable/user_guide/indexing.html#returning-a-view-versus-a-copy\n",
      "  waji['Speed'][0]=1500\n"
     ]
    }
   ],
   "source": [
    "waji['Speed'][0]=1500"
   ]
  },
  {
   "cell_type": "code",
   "execution_count": 20,
   "id": "d0e11435",
   "metadata": {},
   "outputs": [
    {
     "data": {
      "text/html": [
       "<div>\n",
       "<style scoped>\n",
       "    .dataframe tbody tr th:only-of-type {\n",
       "        vertical-align: middle;\n",
       "    }\n",
       "\n",
       "    .dataframe tbody tr th {\n",
       "        vertical-align: top;\n",
       "    }\n",
       "\n",
       "    .dataframe thead th {\n",
       "        text-align: right;\n",
       "    }\n",
       "</style>\n",
       "<table border=\"1\" class=\"dataframe\">\n",
       "  <thead>\n",
       "    <tr style=\"text-align: right;\">\n",
       "      <th></th>\n",
       "      <th>Train No</th>\n",
       "      <th>Speed</th>\n",
       "      <th>City</th>\n",
       "    </tr>\n",
       "  </thead>\n",
       "  <tbody>\n",
       "    <tr>\n",
       "      <th>0</th>\n",
       "      <td>20202</td>\n",
       "      <td>1500</td>\n",
       "      <td>Karachi</td>\n",
       "    </tr>\n",
       "    <tr>\n",
       "      <th>1</th>\n",
       "      <td>23212</td>\n",
       "      <td>3400</td>\n",
       "      <td>Lahore</td>\n",
       "    </tr>\n",
       "    <tr>\n",
       "      <th>2</th>\n",
       "      <td>34342</td>\n",
       "      <td>2300</td>\n",
       "      <td>Islamabad</td>\n",
       "    </tr>\n",
       "  </tbody>\n",
       "</table>\n",
       "</div>"
      ],
      "text/plain": [
       "   Train No  Speed       City\n",
       "0     20202   1500    Karachi\n",
       "1     23212   3400     Lahore\n",
       "2     34342   2300  Islamabad"
      ]
     },
     "execution_count": 20,
     "metadata": {},
     "output_type": "execute_result"
    }
   ],
   "source": [
    "waji"
   ]
  },
  {
   "cell_type": "code",
   "execution_count": 21,
   "id": "223fb67d",
   "metadata": {},
   "outputs": [],
   "source": [
    "waji.to_csv('waji.csv')"
   ]
  },
  {
   "cell_type": "code",
   "execution_count": 22,
   "id": "7a652b52",
   "metadata": {},
   "outputs": [],
   "source": [
    "waji.index=[1,2,3] # can change index"
   ]
  },
  {
   "cell_type": "code",
   "execution_count": 23,
   "id": "75fea269",
   "metadata": {},
   "outputs": [
    {
     "data": {
      "text/html": [
       "<div>\n",
       "<style scoped>\n",
       "    .dataframe tbody tr th:only-of-type {\n",
       "        vertical-align: middle;\n",
       "    }\n",
       "\n",
       "    .dataframe tbody tr th {\n",
       "        vertical-align: top;\n",
       "    }\n",
       "\n",
       "    .dataframe thead th {\n",
       "        text-align: right;\n",
       "    }\n",
       "</style>\n",
       "<table border=\"1\" class=\"dataframe\">\n",
       "  <thead>\n",
       "    <tr style=\"text-align: right;\">\n",
       "      <th></th>\n",
       "      <th>Train No</th>\n",
       "      <th>Speed</th>\n",
       "      <th>City</th>\n",
       "    </tr>\n",
       "  </thead>\n",
       "  <tbody>\n",
       "    <tr>\n",
       "      <th>1</th>\n",
       "      <td>20202</td>\n",
       "      <td>1500</td>\n",
       "      <td>Karachi</td>\n",
       "    </tr>\n",
       "    <tr>\n",
       "      <th>2</th>\n",
       "      <td>23212</td>\n",
       "      <td>3400</td>\n",
       "      <td>Lahore</td>\n",
       "    </tr>\n",
       "    <tr>\n",
       "      <th>3</th>\n",
       "      <td>34342</td>\n",
       "      <td>2300</td>\n",
       "      <td>Islamabad</td>\n",
       "    </tr>\n",
       "  </tbody>\n",
       "</table>\n",
       "</div>"
      ],
      "text/plain": [
       "   Train No  Speed       City\n",
       "1     20202   1500    Karachi\n",
       "2     23212   3400     Lahore\n",
       "3     34342   2300  Islamabad"
      ]
     },
     "execution_count": 23,
     "metadata": {},
     "output_type": "execute_result"
    }
   ],
   "source": [
    "waji"
   ]
  },
  {
   "cell_type": "markdown",
   "id": "f2f0b6fe",
   "metadata": {},
   "source": [
    "***There are two types of data structure in Pandas . Onw is Series and other is DataFrame. ***\n",
    "Series => One dimensional array with index it stores single column or row of data with data frame like df['C2']\n",
    "DataFrame => Tabular spreadsheet like structure representing rows each of which containing one or more columns***"
   ]
  },
  {
   "cell_type": "code",
   "execution_count": 29,
   "id": "d0a4ddd7",
   "metadata": {},
   "outputs": [],
   "source": [
    "ser=pd.Series(np.random.rand(10))"
   ]
  },
  {
   "cell_type": "code",
   "execution_count": 30,
   "id": "d2e6d08c",
   "metadata": {},
   "outputs": [
    {
     "data": {
      "text/plain": [
       "0    0.723900\n",
       "1    0.715056\n",
       "2    0.890023\n",
       "3    0.712204\n",
       "4    0.965563\n",
       "5    0.250174\n",
       "6    0.106760\n",
       "7    0.896463\n",
       "8    0.541898\n",
       "9    0.732234\n",
       "dtype: float64"
      ]
     },
     "execution_count": 30,
     "metadata": {},
     "output_type": "execute_result"
    }
   ],
   "source": [
    "ser"
   ]
  },
  {
   "cell_type": "code",
   "execution_count": 31,
   "id": "8efbbc5f",
   "metadata": {},
   "outputs": [
    {
     "data": {
      "text/plain": [
       "pandas.core.series.Series"
      ]
     },
     "execution_count": 31,
     "metadata": {},
     "output_type": "execute_result"
    }
   ],
   "source": [
    "type(ser)"
   ]
  },
  {
   "cell_type": "code",
   "execution_count": 33,
   "id": "47d77662",
   "metadata": {},
   "outputs": [],
   "source": [
    "newdf=pd.DataFrame(np.random.rand(334,5),index=np.arange(334))"
   ]
  },
  {
   "cell_type": "code",
   "execution_count": 34,
   "id": "5a720776",
   "metadata": {},
   "outputs": [
    {
     "data": {
      "text/html": [
       "<div>\n",
       "<style scoped>\n",
       "    .dataframe tbody tr th:only-of-type {\n",
       "        vertical-align: middle;\n",
       "    }\n",
       "\n",
       "    .dataframe tbody tr th {\n",
       "        vertical-align: top;\n",
       "    }\n",
       "\n",
       "    .dataframe thead th {\n",
       "        text-align: right;\n",
       "    }\n",
       "</style>\n",
       "<table border=\"1\" class=\"dataframe\">\n",
       "  <thead>\n",
       "    <tr style=\"text-align: right;\">\n",
       "      <th></th>\n",
       "      <th>0</th>\n",
       "      <th>1</th>\n",
       "      <th>2</th>\n",
       "      <th>3</th>\n",
       "      <th>4</th>\n",
       "    </tr>\n",
       "  </thead>\n",
       "  <tbody>\n",
       "    <tr>\n",
       "      <th>0</th>\n",
       "      <td>0.863400</td>\n",
       "      <td>0.345350</td>\n",
       "      <td>0.525814</td>\n",
       "      <td>0.941810</td>\n",
       "      <td>0.821039</td>\n",
       "    </tr>\n",
       "    <tr>\n",
       "      <th>1</th>\n",
       "      <td>0.917983</td>\n",
       "      <td>0.491833</td>\n",
       "      <td>0.208696</td>\n",
       "      <td>0.089156</td>\n",
       "      <td>0.227050</td>\n",
       "    </tr>\n",
       "    <tr>\n",
       "      <th>2</th>\n",
       "      <td>0.076448</td>\n",
       "      <td>0.526238</td>\n",
       "      <td>0.680619</td>\n",
       "      <td>0.014374</td>\n",
       "      <td>0.127923</td>\n",
       "    </tr>\n",
       "    <tr>\n",
       "      <th>3</th>\n",
       "      <td>0.952317</td>\n",
       "      <td>0.844848</td>\n",
       "      <td>0.271314</td>\n",
       "      <td>0.125899</td>\n",
       "      <td>0.175539</td>\n",
       "    </tr>\n",
       "    <tr>\n",
       "      <th>4</th>\n",
       "      <td>0.256107</td>\n",
       "      <td>0.630687</td>\n",
       "      <td>0.125566</td>\n",
       "      <td>0.985714</td>\n",
       "      <td>0.791961</td>\n",
       "    </tr>\n",
       "    <tr>\n",
       "      <th>...</th>\n",
       "      <td>...</td>\n",
       "      <td>...</td>\n",
       "      <td>...</td>\n",
       "      <td>...</td>\n",
       "      <td>...</td>\n",
       "    </tr>\n",
       "    <tr>\n",
       "      <th>329</th>\n",
       "      <td>0.675514</td>\n",
       "      <td>0.567345</td>\n",
       "      <td>0.692334</td>\n",
       "      <td>0.593270</td>\n",
       "      <td>0.362388</td>\n",
       "    </tr>\n",
       "    <tr>\n",
       "      <th>330</th>\n",
       "      <td>0.111736</td>\n",
       "      <td>0.154859</td>\n",
       "      <td>0.626273</td>\n",
       "      <td>0.349719</td>\n",
       "      <td>0.561195</td>\n",
       "    </tr>\n",
       "    <tr>\n",
       "      <th>331</th>\n",
       "      <td>0.088128</td>\n",
       "      <td>0.373012</td>\n",
       "      <td>0.514513</td>\n",
       "      <td>0.436965</td>\n",
       "      <td>0.098029</td>\n",
       "    </tr>\n",
       "    <tr>\n",
       "      <th>332</th>\n",
       "      <td>0.250511</td>\n",
       "      <td>0.853208</td>\n",
       "      <td>0.099045</td>\n",
       "      <td>0.818305</td>\n",
       "      <td>0.013671</td>\n",
       "    </tr>\n",
       "    <tr>\n",
       "      <th>333</th>\n",
       "      <td>0.576427</td>\n",
       "      <td>0.618192</td>\n",
       "      <td>0.208525</td>\n",
       "      <td>0.368841</td>\n",
       "      <td>0.533411</td>\n",
       "    </tr>\n",
       "  </tbody>\n",
       "</table>\n",
       "<p>334 rows × 5 columns</p>\n",
       "</div>"
      ],
      "text/plain": [
       "            0         1         2         3         4\n",
       "0    0.863400  0.345350  0.525814  0.941810  0.821039\n",
       "1    0.917983  0.491833  0.208696  0.089156  0.227050\n",
       "2    0.076448  0.526238  0.680619  0.014374  0.127923\n",
       "3    0.952317  0.844848  0.271314  0.125899  0.175539\n",
       "4    0.256107  0.630687  0.125566  0.985714  0.791961\n",
       "..        ...       ...       ...       ...       ...\n",
       "329  0.675514  0.567345  0.692334  0.593270  0.362388\n",
       "330  0.111736  0.154859  0.626273  0.349719  0.561195\n",
       "331  0.088128  0.373012  0.514513  0.436965  0.098029\n",
       "332  0.250511  0.853208  0.099045  0.818305  0.013671\n",
       "333  0.576427  0.618192  0.208525  0.368841  0.533411\n",
       "\n",
       "[334 rows x 5 columns]"
      ]
     },
     "execution_count": 34,
     "metadata": {},
     "output_type": "execute_result"
    }
   ],
   "source": [
    "newdf"
   ]
  },
  {
   "cell_type": "code",
   "execution_count": null,
   "id": "77d28057",
   "metadata": {},
   "outputs": [],
   "source": [
    "newdf."
   ]
  }
 ],
 "metadata": {
  "kernelspec": {
   "display_name": "Python 3",
   "language": "python",
   "name": "python3"
  },
  "language_info": {
   "codemirror_mode": {
    "name": "ipython",
    "version": 3
   },
   "file_extension": ".py",
   "mimetype": "text/x-python",
   "name": "python",
   "nbconvert_exporter": "python",
   "pygments_lexer": "ipython3",
   "version": "3.8.8"
  }
 },
 "nbformat": 4,
 "nbformat_minor": 5
}
